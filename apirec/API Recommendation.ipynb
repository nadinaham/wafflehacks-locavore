{
 "cells": [
  {
   "cell_type": "code",
   "execution_count": null,
   "id": "4ec7019c",
   "metadata": {},
   "outputs": [],
   "source": [
    "import pandas as pd\n",
    "df_orders = pd.read_csv('orders.csv')\n",
    "\n",
    "#CONTENT FILTER\n",
    "\n",
    "#PIVOT\n",
    "df_content = df_orders.pivot_table(index='user_id', columns='biz_id')\n",
    "\n",
    "#ENCODING\n",
    "one_hot_content = (df_content.notnull()).astype('int')\n",
    "\n",
    "#CALC PEARSON\n",
    "df_sim = one_hot_content.corr(method='pearson')\n",
    "df_sim.to_csv('content_sim.csv')"
   ]
  }
 ],
 "metadata": {
  "kernelspec": {
   "display_name": "Python 3 (ipykernel)",
   "language": "python",
   "name": "python3"
  },
  "language_info": {
   "codemirror_mode": {
    "name": "ipython",
    "version": 3
   },
   "file_extension": ".py",
   "mimetype": "text/x-python",
   "name": "python",
   "nbconvert_exporter": "python",
   "pygments_lexer": "ipython3",
   "version": "3.9.7"
  }
 },
 "nbformat": 4,
 "nbformat_minor": 5
}
